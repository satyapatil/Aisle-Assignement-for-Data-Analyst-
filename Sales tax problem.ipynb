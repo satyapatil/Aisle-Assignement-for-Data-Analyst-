{
 "cells": [
  {
   "cell_type": "code",
   "execution_count": null,
   "id": "c98bfee5",
   "metadata": {},
   "outputs": [],
   "source": [
    "enter_no_of_items = int(input('Enter no. of Entries: '))\n",
    "imported_items =[]\n",
    "item = []\n",
    "for i in range(enter_no_of_items):\n",
    "    items = input('enter item: ')\n",
    "    price = float(input('Enter price: '))\n",
    "    if 'import' in items:\n",
    "        imported_items.append(items)\n",
    "        imported_items.append(price)\n",
    "    else:\n",
    "        item.append(items)\n",
    "        item.append(price)\n",
    "\n",
    "s_1 = 0\n",
    "s_2 = 0\n",
    "for i in range(len(imported_items)):\n",
    "    s_1 = s_1 + imported_items[i]\n",
    "imp_tax = s_1 * 0.05\n",
    "l = imported_items + item\n",
    "\n",
    "\n",
    "for i in range(0,len(l),2):\n",
    "    if l[i] not in ['chocolate','pill','book']:\n",
    "        s_2 = (l[i+1]) + s_2\n",
    "      \n",
    "tax = s_2 * 0.10\n",
    "\n",
    "total_sales_tax = round(imp_tax,2) + round(tax,2)\n",
    "print('total_sales_tax',total_sales_tax)\n",
    "t_s = 0\n",
    "for i in range(1,len(l),2):\n",
    "    t_s = t_s + l[i]\n",
    "\n",
    "Total = round(t_s,2) + round(total_sales_tax,2)\n",
    "print('Total',Total)\n"
   ]
  },
  {
   "cell_type": "code",
   "execution_count": null,
   "id": "b0dfb90f",
   "metadata": {},
   "outputs": [],
   "source": []
  }
 ],
 "metadata": {
  "kernelspec": {
   "display_name": "Python 3 (ipykernel)",
   "language": "python",
   "name": "python3"
  },
  "language_info": {
   "codemirror_mode": {
    "name": "ipython",
    "version": 3
   },
   "file_extension": ".py",
   "mimetype": "text/x-python",
   "name": "python",
   "nbconvert_exporter": "python",
   "pygments_lexer": "ipython3",
   "version": "3.9.12"
  }
 },
 "nbformat": 4,
 "nbformat_minor": 5
}
